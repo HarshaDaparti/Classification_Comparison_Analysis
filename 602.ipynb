{
 "cells": [
  {
   "cell_type": "markdown",
   "metadata": {},
   "source": [
    "## DATA\n",
    "### Bank Marketing Dataset - UCI ML Repository - https://archive.ics.uci.edu/ml/datasets/Bank+Marketing#\n",
    "### Input variables:\n",
    "##### Client Data:\n",
    "- 1 - age (numeric)\n",
    "- 2 - job : type of job (categorical: 'admin.','blue-collar','entrepreneur','housemaid','management','retired','self-employed','services','student','technician','unemployed','unknown')\n",
    "- 3 - marital : marital status (categorical: 'divorced','married','single','unknown'; note: 'divorced' means divorced or widowed)\n",
    "- 4 - education (categorical: 'basic.4y','basic.6y','basic.9y','high.school','illiterate','professional.course','university.degree','unknown')\n",
    "- 5 - default: has credit in default? (categorical: 'no','yes','unknown')\n",
    "- 6 - housing: has housing loan? (categorical: 'no','yes','unknown')\n",
    "- 7 - loan: has personal loan? (categorical: 'no','yes','unknown')\n",
    "##### related with the last contact of the current campaign:\n",
    "- 8 - contact: contact communication type (categorical: 'cellular','telephone') \n",
    "- 9 - month: last contact month of year (categorical: 'jan', 'feb', 'mar', ..., 'nov', 'dec')\n",
    "- 10 - day_of_week: last contact day of the week (categorical: 'mon','tue','wed','thu','fri')\n",
    "- 11 - duration: last contact duration, in seconds (numeric). Important note: this attribute highly affects the output target (e.g., if duration=0 then y='no'). Yet, the duration is not known before a call is     performed. Also, after the end of the call y is obviously known. Thus, this input should only be included for benchmark purposes and should be discarded if the intention is to have a realistic predictive model.\n",
    "##### other attributes:\n",
    "- 12 - campaign: number of contacts performed during this campaign and for this client (numeric, includes last contact)\n",
    "- 13 - pdays: number of days that passed by after the client was last contacted from a previous campaign (numeric; 999 means client was not previously contacted)\n",
    "- 14 - previous: number of contacts performed before this campaign and for this client (numeric)\n",
    "- 15 - poutcome: outcome of the previous marketing campaign (categorical: 'failure','nonexistent','success')\n",
    "\n",
    "### Output variable (desired target):\n",
    "- 16 - y - has the client subscribed a term deposit? (binary: 'yes','no').\n"
   ]
  },
  {
   "cell_type": "code",
   "execution_count": 1,
   "metadata": {},
   "outputs": [],
   "source": [
    "import pandas as pd\n",
    "import matplotlib.pyplot as plt\n",
    "import numpy as np"
   ]
  },
  {
   "cell_type": "markdown",
   "metadata": {},
   "source": [
    "## Reading the csv"
   ]
  },
  {
   "cell_type": "code",
   "execution_count": 2,
   "metadata": {},
   "outputs": [],
   "source": [
    "df = pd.read_csv('bank-full.csv', sep=';')\n",
    "dff = pd.DataFrame()"
   ]
  },
  {
   "cell_type": "code",
   "execution_count": 3,
   "metadata": {},
   "outputs": [
    {
     "data": {
      "text/html": [
       "<div>\n",
       "<style scoped>\n",
       "    .dataframe tbody tr th:only-of-type {\n",
       "        vertical-align: middle;\n",
       "    }\n",
       "\n",
       "    .dataframe tbody tr th {\n",
       "        vertical-align: top;\n",
       "    }\n",
       "\n",
       "    .dataframe thead th {\n",
       "        text-align: right;\n",
       "    }\n",
       "</style>\n",
       "<table border=\"1\" class=\"dataframe\">\n",
       "  <thead>\n",
       "    <tr style=\"text-align: right;\">\n",
       "      <th></th>\n",
       "      <th>age</th>\n",
       "      <th>job</th>\n",
       "      <th>marital</th>\n",
       "      <th>education</th>\n",
       "      <th>default</th>\n",
       "      <th>balance</th>\n",
       "      <th>housing</th>\n",
       "      <th>loan</th>\n",
       "      <th>contact</th>\n",
       "      <th>day</th>\n",
       "      <th>month</th>\n",
       "      <th>duration</th>\n",
       "      <th>campaign</th>\n",
       "      <th>pdays</th>\n",
       "      <th>previous</th>\n",
       "      <th>poutcome</th>\n",
       "      <th>y</th>\n",
       "    </tr>\n",
       "  </thead>\n",
       "  <tbody>\n",
       "    <tr>\n",
       "      <th>0</th>\n",
       "      <td>58</td>\n",
       "      <td>management</td>\n",
       "      <td>married</td>\n",
       "      <td>tertiary</td>\n",
       "      <td>no</td>\n",
       "      <td>2143</td>\n",
       "      <td>yes</td>\n",
       "      <td>no</td>\n",
       "      <td>unknown</td>\n",
       "      <td>5</td>\n",
       "      <td>may</td>\n",
       "      <td>261</td>\n",
       "      <td>1</td>\n",
       "      <td>-1</td>\n",
       "      <td>0</td>\n",
       "      <td>unknown</td>\n",
       "      <td>no</td>\n",
       "    </tr>\n",
       "    <tr>\n",
       "      <th>1</th>\n",
       "      <td>44</td>\n",
       "      <td>technician</td>\n",
       "      <td>single</td>\n",
       "      <td>secondary</td>\n",
       "      <td>no</td>\n",
       "      <td>29</td>\n",
       "      <td>yes</td>\n",
       "      <td>no</td>\n",
       "      <td>unknown</td>\n",
       "      <td>5</td>\n",
       "      <td>may</td>\n",
       "      <td>151</td>\n",
       "      <td>1</td>\n",
       "      <td>-1</td>\n",
       "      <td>0</td>\n",
       "      <td>unknown</td>\n",
       "      <td>no</td>\n",
       "    </tr>\n",
       "    <tr>\n",
       "      <th>2</th>\n",
       "      <td>33</td>\n",
       "      <td>entrepreneur</td>\n",
       "      <td>married</td>\n",
       "      <td>secondary</td>\n",
       "      <td>no</td>\n",
       "      <td>2</td>\n",
       "      <td>yes</td>\n",
       "      <td>yes</td>\n",
       "      <td>unknown</td>\n",
       "      <td>5</td>\n",
       "      <td>may</td>\n",
       "      <td>76</td>\n",
       "      <td>1</td>\n",
       "      <td>-1</td>\n",
       "      <td>0</td>\n",
       "      <td>unknown</td>\n",
       "      <td>no</td>\n",
       "    </tr>\n",
       "    <tr>\n",
       "      <th>3</th>\n",
       "      <td>47</td>\n",
       "      <td>blue-collar</td>\n",
       "      <td>married</td>\n",
       "      <td>unknown</td>\n",
       "      <td>no</td>\n",
       "      <td>1506</td>\n",
       "      <td>yes</td>\n",
       "      <td>no</td>\n",
       "      <td>unknown</td>\n",
       "      <td>5</td>\n",
       "      <td>may</td>\n",
       "      <td>92</td>\n",
       "      <td>1</td>\n",
       "      <td>-1</td>\n",
       "      <td>0</td>\n",
       "      <td>unknown</td>\n",
       "      <td>no</td>\n",
       "    </tr>\n",
       "    <tr>\n",
       "      <th>4</th>\n",
       "      <td>33</td>\n",
       "      <td>unknown</td>\n",
       "      <td>single</td>\n",
       "      <td>unknown</td>\n",
       "      <td>no</td>\n",
       "      <td>1</td>\n",
       "      <td>no</td>\n",
       "      <td>no</td>\n",
       "      <td>unknown</td>\n",
       "      <td>5</td>\n",
       "      <td>may</td>\n",
       "      <td>198</td>\n",
       "      <td>1</td>\n",
       "      <td>-1</td>\n",
       "      <td>0</td>\n",
       "      <td>unknown</td>\n",
       "      <td>no</td>\n",
       "    </tr>\n",
       "    <tr>\n",
       "      <th>5</th>\n",
       "      <td>35</td>\n",
       "      <td>management</td>\n",
       "      <td>married</td>\n",
       "      <td>tertiary</td>\n",
       "      <td>no</td>\n",
       "      <td>231</td>\n",
       "      <td>yes</td>\n",
       "      <td>no</td>\n",
       "      <td>unknown</td>\n",
       "      <td>5</td>\n",
       "      <td>may</td>\n",
       "      <td>139</td>\n",
       "      <td>1</td>\n",
       "      <td>-1</td>\n",
       "      <td>0</td>\n",
       "      <td>unknown</td>\n",
       "      <td>no</td>\n",
       "    </tr>\n",
       "    <tr>\n",
       "      <th>6</th>\n",
       "      <td>28</td>\n",
       "      <td>management</td>\n",
       "      <td>single</td>\n",
       "      <td>tertiary</td>\n",
       "      <td>no</td>\n",
       "      <td>447</td>\n",
       "      <td>yes</td>\n",
       "      <td>yes</td>\n",
       "      <td>unknown</td>\n",
       "      <td>5</td>\n",
       "      <td>may</td>\n",
       "      <td>217</td>\n",
       "      <td>1</td>\n",
       "      <td>-1</td>\n",
       "      <td>0</td>\n",
       "      <td>unknown</td>\n",
       "      <td>no</td>\n",
       "    </tr>\n",
       "    <tr>\n",
       "      <th>7</th>\n",
       "      <td>42</td>\n",
       "      <td>entrepreneur</td>\n",
       "      <td>divorced</td>\n",
       "      <td>tertiary</td>\n",
       "      <td>yes</td>\n",
       "      <td>2</td>\n",
       "      <td>yes</td>\n",
       "      <td>no</td>\n",
       "      <td>unknown</td>\n",
       "      <td>5</td>\n",
       "      <td>may</td>\n",
       "      <td>380</td>\n",
       "      <td>1</td>\n",
       "      <td>-1</td>\n",
       "      <td>0</td>\n",
       "      <td>unknown</td>\n",
       "      <td>no</td>\n",
       "    </tr>\n",
       "    <tr>\n",
       "      <th>8</th>\n",
       "      <td>58</td>\n",
       "      <td>retired</td>\n",
       "      <td>married</td>\n",
       "      <td>primary</td>\n",
       "      <td>no</td>\n",
       "      <td>121</td>\n",
       "      <td>yes</td>\n",
       "      <td>no</td>\n",
       "      <td>unknown</td>\n",
       "      <td>5</td>\n",
       "      <td>may</td>\n",
       "      <td>50</td>\n",
       "      <td>1</td>\n",
       "      <td>-1</td>\n",
       "      <td>0</td>\n",
       "      <td>unknown</td>\n",
       "      <td>no</td>\n",
       "    </tr>\n",
       "    <tr>\n",
       "      <th>9</th>\n",
       "      <td>43</td>\n",
       "      <td>technician</td>\n",
       "      <td>single</td>\n",
       "      <td>secondary</td>\n",
       "      <td>no</td>\n",
       "      <td>593</td>\n",
       "      <td>yes</td>\n",
       "      <td>no</td>\n",
       "      <td>unknown</td>\n",
       "      <td>5</td>\n",
       "      <td>may</td>\n",
       "      <td>55</td>\n",
       "      <td>1</td>\n",
       "      <td>-1</td>\n",
       "      <td>0</td>\n",
       "      <td>unknown</td>\n",
       "      <td>no</td>\n",
       "    </tr>\n",
       "  </tbody>\n",
       "</table>\n",
       "</div>"
      ],
      "text/plain": [
       "   age           job   marital  education default  balance housing loan  \\\n",
       "0   58    management   married   tertiary      no     2143     yes   no   \n",
       "1   44    technician    single  secondary      no       29     yes   no   \n",
       "2   33  entrepreneur   married  secondary      no        2     yes  yes   \n",
       "3   47   blue-collar   married    unknown      no     1506     yes   no   \n",
       "4   33       unknown    single    unknown      no        1      no   no   \n",
       "5   35    management   married   tertiary      no      231     yes   no   \n",
       "6   28    management    single   tertiary      no      447     yes  yes   \n",
       "7   42  entrepreneur  divorced   tertiary     yes        2     yes   no   \n",
       "8   58       retired   married    primary      no      121     yes   no   \n",
       "9   43    technician    single  secondary      no      593     yes   no   \n",
       "\n",
       "   contact  day month  duration  campaign  pdays  previous poutcome   y  \n",
       "0  unknown    5   may       261         1     -1         0  unknown  no  \n",
       "1  unknown    5   may       151         1     -1         0  unknown  no  \n",
       "2  unknown    5   may        76         1     -1         0  unknown  no  \n",
       "3  unknown    5   may        92         1     -1         0  unknown  no  \n",
       "4  unknown    5   may       198         1     -1         0  unknown  no  \n",
       "5  unknown    5   may       139         1     -1         0  unknown  no  \n",
       "6  unknown    5   may       217         1     -1         0  unknown  no  \n",
       "7  unknown    5   may       380         1     -1         0  unknown  no  \n",
       "8  unknown    5   may        50         1     -1         0  unknown  no  \n",
       "9  unknown    5   may        55         1     -1         0  unknown  no  "
      ]
     },
     "execution_count": 3,
     "metadata": {},
     "output_type": "execute_result"
    }
   ],
   "source": [
    "df.head(10)"
   ]
  },
  {
   "cell_type": "code",
   "execution_count": 4,
   "metadata": {},
   "outputs": [
    {
     "data": {
      "text/plain": [
       "(45211, 17)"
      ]
     },
     "execution_count": 4,
     "metadata": {},
     "output_type": "execute_result"
    }
   ],
   "source": [
    "df.shape"
   ]
  },
  {
   "cell_type": "markdown",
   "metadata": {},
   "source": [
    "#### Checking for catergorical values to handle."
   ]
  },
  {
   "cell_type": "code",
   "execution_count": 5,
   "metadata": {},
   "outputs": [
    {
     "name": "stdout",
     "output_type": "stream",
     "text": [
      "No. of job categories: \n",
      " ['management' 'technician' 'entrepreneur' 'blue-collar' 'unknown' 'retired'\n",
      " 'admin.' 'services' 'self-employed' 'unemployed' 'housemaid' 'student']\n",
      "\n",
      "Marital Statuses:  ['married' 'single' 'divorced']\n",
      "\n",
      "Education types:  ['tertiary' 'secondary' 'unknown' 'primary']\n",
      "\n",
      "Unique values for default:  ['no' 'yes']\n",
      "\n",
      "Unique values for housing:  ['yes' 'no']\n",
      "\n",
      "Unique values for loan:  ['no' 'yes']\n",
      "\n",
      "Contatct number types:  ['unknown' 'cellular' 'telephone']\n",
      "\n",
      "Outcome types:  ['unknown' 'failure' 'other' 'success']\n",
      "\n",
      "Unique values for target(y):  ['no' 'yes']\n"
     ]
    }
   ],
   "source": [
    "print('No. of job categories: \\n',df.job.unique())\n",
    "print('\\nMarital Statuses: ',df.marital.unique())\n",
    "print('\\nEducation types: ',df.education.unique())\n",
    "print('\\nUnique values for default: ',df.default.unique())\n",
    "print('\\nUnique values for housing: ',df.housing.unique())\n",
    "print('\\nUnique values for loan: ',df.loan.unique())\n",
    "print('\\nContatct number types: ',df.contact.unique())\n",
    "print('\\nOutcome types: ', df.poutcome.unique())\n",
    "print('\\nUnique values for target(y): ',df.y.unique())"
   ]
  },
  {
   "cell_type": "markdown",
   "metadata": {},
   "source": [
    "#### Handling Categorical Values and creating a new and workable dataframe - dff from the original dataframe - df.\n",
    "- ##### Assigning numerical values to the categorical variables\n",
    "- ##### Clearing rows with unnecessary and irrelavant negative and zero values"
   ]
  },
  {
   "cell_type": "code",
   "execution_count": 6,
   "metadata": {},
   "outputs": [
    {
     "data": {
      "text/html": [
       "<div>\n",
       "<style scoped>\n",
       "    .dataframe tbody tr th:only-of-type {\n",
       "        vertical-align: middle;\n",
       "    }\n",
       "\n",
       "    .dataframe tbody tr th {\n",
       "        vertical-align: top;\n",
       "    }\n",
       "\n",
       "    .dataframe thead th {\n",
       "        text-align: right;\n",
       "    }\n",
       "</style>\n",
       "<table border=\"1\" class=\"dataframe\">\n",
       "  <thead>\n",
       "    <tr style=\"text-align: right;\">\n",
       "      <th></th>\n",
       "      <th>age</th>\n",
       "      <th>job</th>\n",
       "      <th>marital</th>\n",
       "      <th>education</th>\n",
       "      <th>contact</th>\n",
       "      <th>poutcome</th>\n",
       "      <th>balance</th>\n",
       "      <th>duration</th>\n",
       "      <th>campaign</th>\n",
       "      <th>pdays</th>\n",
       "      <th>previous</th>\n",
       "      <th>default</th>\n",
       "      <th>housing</th>\n",
       "      <th>loan</th>\n",
       "      <th>y</th>\n",
       "    </tr>\n",
       "  </thead>\n",
       "  <tbody>\n",
       "    <tr>\n",
       "      <th>24060</th>\n",
       "      <td>33</td>\n",
       "      <td>7</td>\n",
       "      <td>1</td>\n",
       "      <td>3</td>\n",
       "      <td>3</td>\n",
       "      <td>2</td>\n",
       "      <td>882</td>\n",
       "      <td>39</td>\n",
       "      <td>1</td>\n",
       "      <td>151</td>\n",
       "      <td>3</td>\n",
       "      <td>0</td>\n",
       "      <td>0</td>\n",
       "      <td>0</td>\n",
       "      <td>0</td>\n",
       "    </tr>\n",
       "    <tr>\n",
       "      <th>24062</th>\n",
       "      <td>42</td>\n",
       "      <td>7</td>\n",
       "      <td>2</td>\n",
       "      <td>2</td>\n",
       "      <td>3</td>\n",
       "      <td>3</td>\n",
       "      <td>-247</td>\n",
       "      <td>519</td>\n",
       "      <td>1</td>\n",
       "      <td>166</td>\n",
       "      <td>1</td>\n",
       "      <td>0</td>\n",
       "      <td>1</td>\n",
       "      <td>1</td>\n",
       "      <td>1</td>\n",
       "    </tr>\n",
       "    <tr>\n",
       "      <th>24064</th>\n",
       "      <td>33</td>\n",
       "      <td>8</td>\n",
       "      <td>1</td>\n",
       "      <td>2</td>\n",
       "      <td>3</td>\n",
       "      <td>2</td>\n",
       "      <td>3444</td>\n",
       "      <td>144</td>\n",
       "      <td>1</td>\n",
       "      <td>91</td>\n",
       "      <td>4</td>\n",
       "      <td>0</td>\n",
       "      <td>1</td>\n",
       "      <td>0</td>\n",
       "      <td>1</td>\n",
       "    </tr>\n",
       "    <tr>\n",
       "      <th>24072</th>\n",
       "      <td>36</td>\n",
       "      <td>1</td>\n",
       "      <td>1</td>\n",
       "      <td>3</td>\n",
       "      <td>3</td>\n",
       "      <td>3</td>\n",
       "      <td>2415</td>\n",
       "      <td>73</td>\n",
       "      <td>1</td>\n",
       "      <td>86</td>\n",
       "      <td>4</td>\n",
       "      <td>0</td>\n",
       "      <td>1</td>\n",
       "      <td>0</td>\n",
       "      <td>0</td>\n",
       "    </tr>\n",
       "    <tr>\n",
       "      <th>24077</th>\n",
       "      <td>36</td>\n",
       "      <td>1</td>\n",
       "      <td>1</td>\n",
       "      <td>3</td>\n",
       "      <td>3</td>\n",
       "      <td>2</td>\n",
       "      <td>0</td>\n",
       "      <td>140</td>\n",
       "      <td>1</td>\n",
       "      <td>143</td>\n",
       "      <td>3</td>\n",
       "      <td>0</td>\n",
       "      <td>1</td>\n",
       "      <td>0</td>\n",
       "      <td>1</td>\n",
       "    </tr>\n",
       "    <tr>\n",
       "      <th>24080</th>\n",
       "      <td>56</td>\n",
       "      <td>2</td>\n",
       "      <td>1</td>\n",
       "      <td>2</td>\n",
       "      <td>2</td>\n",
       "      <td>4</td>\n",
       "      <td>589</td>\n",
       "      <td>518</td>\n",
       "      <td>1</td>\n",
       "      <td>147</td>\n",
       "      <td>2</td>\n",
       "      <td>0</td>\n",
       "      <td>1</td>\n",
       "      <td>0</td>\n",
       "      <td>1</td>\n",
       "    </tr>\n",
       "    <tr>\n",
       "      <th>24086</th>\n",
       "      <td>44</td>\n",
       "      <td>4</td>\n",
       "      <td>1</td>\n",
       "      <td>2</td>\n",
       "      <td>3</td>\n",
       "      <td>3</td>\n",
       "      <td>1324</td>\n",
       "      <td>119</td>\n",
       "      <td>1</td>\n",
       "      <td>89</td>\n",
       "      <td>2</td>\n",
       "      <td>0</td>\n",
       "      <td>1</td>\n",
       "      <td>0</td>\n",
       "      <td>0</td>\n",
       "    </tr>\n",
       "    <tr>\n",
       "      <th>24122</th>\n",
       "      <td>26</td>\n",
       "      <td>2</td>\n",
       "      <td>2</td>\n",
       "      <td>3</td>\n",
       "      <td>3</td>\n",
       "      <td>3</td>\n",
       "      <td>172</td>\n",
       "      <td>21</td>\n",
       "      <td>1</td>\n",
       "      <td>140</td>\n",
       "      <td>4</td>\n",
       "      <td>0</td>\n",
       "      <td>0</td>\n",
       "      <td>1</td>\n",
       "      <td>0</td>\n",
       "    </tr>\n",
       "    <tr>\n",
       "      <th>24127</th>\n",
       "      <td>51</td>\n",
       "      <td>7</td>\n",
       "      <td>2</td>\n",
       "      <td>2</td>\n",
       "      <td>3</td>\n",
       "      <td>2</td>\n",
       "      <td>3132</td>\n",
       "      <td>449</td>\n",
       "      <td>1</td>\n",
       "      <td>176</td>\n",
       "      <td>1</td>\n",
       "      <td>0</td>\n",
       "      <td>0</td>\n",
       "      <td>0</td>\n",
       "      <td>0</td>\n",
       "    </tr>\n",
       "    <tr>\n",
       "      <th>24136</th>\n",
       "      <td>34</td>\n",
       "      <td>1</td>\n",
       "      <td>1</td>\n",
       "      <td>3</td>\n",
       "      <td>2</td>\n",
       "      <td>3</td>\n",
       "      <td>1770</td>\n",
       "      <td>26</td>\n",
       "      <td>1</td>\n",
       "      <td>101</td>\n",
       "      <td>11</td>\n",
       "      <td>0</td>\n",
       "      <td>1</td>\n",
       "      <td>0</td>\n",
       "      <td>0</td>\n",
       "    </tr>\n",
       "  </tbody>\n",
       "</table>\n",
       "</div>"
      ],
      "text/plain": [
       "       age  job  marital  education  contact  poutcome  balance  duration  \\\n",
       "24060   33    7        1          3        3         2      882        39   \n",
       "24062   42    7        2          2        3         3     -247       519   \n",
       "24064   33    8        1          2        3         2     3444       144   \n",
       "24072   36    1        1          3        3         3     2415        73   \n",
       "24077   36    1        1          3        3         2        0       140   \n",
       "24080   56    2        1          2        2         4      589       518   \n",
       "24086   44    4        1          2        3         3     1324       119   \n",
       "24122   26    2        2          3        3         3      172        21   \n",
       "24127   51    7        2          2        3         2     3132       449   \n",
       "24136   34    1        1          3        2         3     1770        26   \n",
       "\n",
       "       campaign  pdays  previous  default  housing  loan  y  \n",
       "24060         1    151         3        0        0     0  0  \n",
       "24062         1    166         1        0        1     1  1  \n",
       "24064         1     91         4        0        1     0  1  \n",
       "24072         1     86         4        0        1     0  0  \n",
       "24077         1    143         3        0        1     0  1  \n",
       "24080         1    147         2        0        1     0  1  \n",
       "24086         1     89         2        0        1     0  0  \n",
       "24122         1    140         4        0        0     1  0  \n",
       "24127         1    176         1        0        0     0  0  \n",
       "24136         1    101        11        0        1     0  0  "
      ]
     },
     "execution_count": 6,
     "metadata": {},
     "output_type": "execute_result"
    }
   ],
   "source": [
    "dff['age'] = df['age']\n",
    "\n",
    "a = list(df['job'].unique())\n",
    "b = list(range(1,13))\n",
    "job = []\n",
    "\n",
    "for i in range(0,len(df['job'])):\n",
    "    for j in range(0,len(a)):\n",
    "        if df['job'][i] == a[j]:\n",
    "            job.append(b[j])\n",
    "\n",
    "dff['job'] = job\n",
    "\n",
    "\n",
    "x = [0]*len(df.marital)\n",
    "for i in range(0,len(df.marital)):\n",
    "    x[i] = df.marital[i]\n",
    "\n",
    "for i in range(0,len(x)):\n",
    "    if x[i] == 'married':\n",
    "        x[i] = 1\n",
    "    elif x[i] == 'single':\n",
    "        x[i] = 2\n",
    "    elif x[i] == 'divorced':\n",
    "        x[i] = 3\n",
    "    else:\n",
    "        break\n",
    "\n",
    "dff['marital'] = x\n",
    "x=[]\n",
    "\n",
    "\n",
    "x = [0]*len(df['education'])\n",
    "for i in range(0,len(df['education'])):\n",
    "    x[i] = df['education'][i]\n",
    "\n",
    "for i in range(0,len(x)):\n",
    "    if x[i] == 'primary':\n",
    "        x[i] = 1\n",
    "    elif x[i] == 'secondary':\n",
    "        x[i] = 2\n",
    "    elif x[i] == 'tertiary':\n",
    "        x[i] = 3\n",
    "    elif x[i] == 'unknown':\n",
    "        x[i] = 4\n",
    "    else:\n",
    "        break\n",
    "\n",
    "dff['education'] = x\n",
    "x=[]\n",
    "\n",
    "\n",
    "x = [0]*len(df.contact)\n",
    "for i in range(0,len(df.contact)):\n",
    "    x[i] = df.contact[i]\n",
    "\n",
    "for i in range(0,len(x)):\n",
    "    if x[i] == 'cellular':\n",
    "        x[i] = 1\n",
    "    elif x[i] == 'unknown':\n",
    "        x[i] = 2\n",
    "    elif x[i] == 'telephone':\n",
    "        x[i] = 3\n",
    "    else:\n",
    "        break\n",
    "\n",
    "dff['contact'] = x\n",
    "x=[]\n",
    "\n",
    "x = [0]*len(df.poutcome)\n",
    "for i in range(0,len(df.poutcome)):\n",
    "    x[i] = df.poutcome[i]\n",
    "\n",
    "for i in range(0,len(x)):\n",
    "    if x[i] == 'unknown':\n",
    "        x[i] = 1\n",
    "    elif x[i] == 'failure':\n",
    "        x[i] = 2\n",
    "    elif x[i] == 'other':\n",
    "        x[i] = 3\n",
    "    elif x[i] == 'success':\n",
    "        x[i] = 4\n",
    "    else:\n",
    "        break\n",
    "\n",
    "dff['poutcome'] = x\n",
    "x=[]\n",
    "\n",
    "dff['balance'] = df['balance'] \n",
    "dff['duration'] =  df['duration'] \n",
    "dff['campaign'] = df['campaign']\n",
    "dff['pdays'] = df['pdays']\n",
    "dff['previous'] = df['previous']\n",
    "\n",
    "p = ['default','housing','loan','y']    \n",
    "\n",
    "for k in p:    \n",
    "    x = [0]*len(df[k])\n",
    "    for i in range(0,len(df[k])):\n",
    "        x[i] = df[k][i]\n",
    "\n",
    "    for i in range(0,len(x)):\n",
    "        if x[i] == 'no':\n",
    "            x[i] = 0\n",
    "        elif x[i] == 'yes':\n",
    "            x[i] = 1\n",
    "        else:\n",
    "            break\n",
    "\n",
    "    dff[k] = x\n",
    "    x=[]\n",
    "\n",
    "dff = dff.drop(dff[dff['pdays'] == -1].index)\n",
    "dff = dff.drop(dff[dff['duration'] == 0].index)\n",
    "\n",
    "dff.head(10)"
   ]
  },
  {
   "cell_type": "code",
   "execution_count": 7,
   "metadata": {},
   "outputs": [
    {
     "data": {
      "text/plain": [
       "<matplotlib.axes._subplots.AxesSubplot at 0x7f0befb6d710>"
      ]
     },
     "execution_count": 7,
     "metadata": {},
     "output_type": "execute_result"
    },
    {
     "data": {
      "image/png": "[encoded data removed]",
      "text/plain": [
       "<Figure size 432x288 with 2 Axes>"
      ]
     },
     "metadata": {
      "needs_background": "light"
     },
     "output_type": "display_data"
    }
   ],
   "source": [
    "import seaborn as sns\n",
    "corr = dff.corr()\n",
    "sns.heatmap(corr, \n",
    "            xticklabels=corr.columns.values,\n",
    "            yticklabels=corr.columns.values)"
   ]
  },
  {
   "cell_type": "code",
   "execution_count": 8,
   "metadata": {},
   "outputs": [],
   "source": [
    "dff = dff.drop('poutcome', axis = 1)"
   ]
  },
  {
   "cell_type": "code",
   "execution_count": 9,
   "metadata": {},
   "outputs": [
    {
     "name": "stdout",
     "output_type": "stream",
     "text": [
      "(8257, 14)\n"
     ]
    },
    {
     "data": {
      "text/html": [
       "<div>\n",
       "<style scoped>\n",
       "    .dataframe tbody tr th:only-of-type {\n",
       "        vertical-align: middle;\n",
       "    }\n",
       "\n",
       "    .dataframe tbody tr th {\n",
       "        vertical-align: top;\n",
       "    }\n",
       "\n",
       "    .dataframe thead th {\n",
       "        text-align: right;\n",
       "    }\n",
       "</style>\n",
       "<table border=\"1\" class=\"dataframe\">\n",
       "  <thead>\n",
       "    <tr style=\"text-align: right;\">\n",
       "      <th></th>\n",
       "      <th>age</th>\n",
       "      <th>job</th>\n",
       "      <th>marital</th>\n",
       "      <th>education</th>\n",
       "      <th>contact</th>\n",
       "      <th>balance</th>\n",
       "      <th>duration</th>\n",
       "      <th>campaign</th>\n",
       "      <th>pdays</th>\n",
       "      <th>previous</th>\n",
       "      <th>default</th>\n",
       "      <th>housing</th>\n",
       "      <th>loan</th>\n",
       "      <th>y</th>\n",
       "    </tr>\n",
       "  </thead>\n",
       "  <tbody>\n",
       "    <tr>\n",
       "      <th>24060</th>\n",
       "      <td>33</td>\n",
       "      <td>7</td>\n",
       "      <td>1</td>\n",
       "      <td>3</td>\n",
       "      <td>3</td>\n",
       "      <td>882</td>\n",
       "      <td>39</td>\n",
       "      <td>1</td>\n",
       "      <td>151</td>\n",
       "      <td>3</td>\n",
       "      <td>0</td>\n",
       "      <td>0</td>\n",
       "      <td>0</td>\n",
       "      <td>0</td>\n",
       "    </tr>\n",
       "    <tr>\n",
       "      <th>24062</th>\n",
       "      <td>42</td>\n",
       "      <td>7</td>\n",
       "      <td>2</td>\n",
       "      <td>2</td>\n",
       "      <td>3</td>\n",
       "      <td>-247</td>\n",
       "      <td>519</td>\n",
       "      <td>1</td>\n",
       "      <td>166</td>\n",
       "      <td>1</td>\n",
       "      <td>0</td>\n",
       "      <td>1</td>\n",
       "      <td>1</td>\n",
       "      <td>1</td>\n",
       "    </tr>\n",
       "    <tr>\n",
       "      <th>24064</th>\n",
       "      <td>33</td>\n",
       "      <td>8</td>\n",
       "      <td>1</td>\n",
       "      <td>2</td>\n",
       "      <td>3</td>\n",
       "      <td>3444</td>\n",
       "      <td>144</td>\n",
       "      <td>1</td>\n",
       "      <td>91</td>\n",
       "      <td>4</td>\n",
       "      <td>0</td>\n",
       "      <td>1</td>\n",
       "      <td>0</td>\n",
       "      <td>1</td>\n",
       "    </tr>\n",
       "    <tr>\n",
       "      <th>24072</th>\n",
       "      <td>36</td>\n",
       "      <td>1</td>\n",
       "      <td>1</td>\n",
       "      <td>3</td>\n",
       "      <td>3</td>\n",
       "      <td>2415</td>\n",
       "      <td>73</td>\n",
       "      <td>1</td>\n",
       "      <td>86</td>\n",
       "      <td>4</td>\n",
       "      <td>0</td>\n",
       "      <td>1</td>\n",
       "      <td>0</td>\n",
       "      <td>0</td>\n",
       "    </tr>\n",
       "    <tr>\n",
       "      <th>24077</th>\n",
       "      <td>36</td>\n",
       "      <td>1</td>\n",
       "      <td>1</td>\n",
       "      <td>3</td>\n",
       "      <td>3</td>\n",
       "      <td>0</td>\n",
       "      <td>140</td>\n",
       "      <td>1</td>\n",
       "      <td>143</td>\n",
       "      <td>3</td>\n",
       "      <td>0</td>\n",
       "      <td>1</td>\n",
       "      <td>0</td>\n",
       "      <td>1</td>\n",
       "    </tr>\n",
       "  </tbody>\n",
       "</table>\n",
       "</div>"
      ],
      "text/plain": [
       "       age  job  marital  education  contact  balance  duration  campaign  \\\n",
       "24060   33    7        1          3        3      882        39         1   \n",
       "24062   42    7        2          2        3     -247       519         1   \n",
       "24064   33    8        1          2        3     3444       144         1   \n",
       "24072   36    1        1          3        3     2415        73         1   \n",
       "24077   36    1        1          3        3        0       140         1   \n",
       "\n",
       "       pdays  previous  default  housing  loan  y  \n",
       "24060    151         3        0        0     0  0  \n",
       "24062    166         1        0        1     1  1  \n",
       "24064     91         4        0        1     0  1  \n",
       "24072     86         4        0        1     0  0  \n",
       "24077    143         3        0        1     0  1  "
      ]
     },
     "execution_count": 9,
     "metadata": {},
     "output_type": "execute_result"
    }
   ],
   "source": [
    "print(dff.shape)\n",
    "dff.head()"
   ]
  },
  {
   "cell_type": "code",
   "execution_count": 10,
   "metadata": {},
   "outputs": [],
   "source": [
    "from sklearn.model_selection import train_test_split\n",
    "\n",
    "train_dff, test_dff = train_test_split(dff, train_size=0.8, test_size=0.2)\n",
    "#train_dff_target, test_dff_target = train_test_split(dff_target, train_size = 0.8, test_size = 0.2)"
   ]
  },
  {
   "cell_type": "markdown",
   "metadata": {},
   "source": [
    "## Linear regression"
   ]
  },
  {
   "cell_type": "code",
   "execution_count": 11,
   "metadata": {},
   "outputs": [
    {
     "data": {
      "text/plain": [
       "LinearRegression(copy_X=True, fit_intercept=True, n_jobs=None,\n",
       "         normalize=False)"
      ]
     },
     "execution_count": 11,
     "metadata": {},
     "output_type": "execute_result"
    }
   ],
   "source": [
    "from sklearn.linear_model import LinearRegression\n",
    "\n",
    "lr = LinearRegression()\n",
    "\n",
    "\n",
    "lr.normalize = False\n",
    "lr.fit(train_dff.drop('y', axis=1),train_dff['y'])"
   ]
  },
  {
   "cell_type": "code",
   "execution_count": 12,
   "metadata": {},
   "outputs": [
    {
     "name": "stdout",
     "output_type": "stream",
     "text": [
      "0.218857258864 0.215455900155\n"
     ]
    }
   ],
   "source": [
    "LRTrS = lr.score(train_dff.drop('y', axis=1),train_dff['y'])\n",
    "LRTeS = lr.score(test_dff.drop('y', axis=1),test_dff['y'])\n",
    "print(LRTrS, LRTeS)"
   ]
  },
  {
   "cell_type": "code",
   "execution_count": 13,
   "metadata": {},
   "outputs": [
    {
     "data": {
      "text/plain": [
       "0.1386772282117629"
      ]
     },
     "execution_count": 13,
     "metadata": {},
     "output_type": "execute_result"
    }
   ],
   "source": [
    "from sklearn.metrics import mean_squared_error\n",
    "mean_squared_error(dff['y'],lr.predict(dff.drop('y', axis=1)))"
   ]
  },
  {
   "cell_type": "code",
   "execution_count": 14,
   "metadata": {},
   "outputs": [
    {
     "data": {
      "text/plain": [
       "array([  7.93983874e-04,   4.45754107e-03,  -1.58016382e-03,\n",
       "         3.64014479e-02,  -2.69014595e-02,   2.42992397e-06,\n",
       "         5.63464816e-04,  -1.29885669e-02,  -1.58416085e-04,\n",
       "         4.06405634e-03,  -1.03697974e-01,  -2.17222380e-01,\n",
       "        -7.87415453e-02])"
      ]
     },
     "execution_count": 14,
     "metadata": {},
     "output_type": "execute_result"
    }
   ],
   "source": [
    "lr.coef_"
   ]
  },
  {
   "cell_type": "code",
   "execution_count": 15,
   "metadata": {},
   "outputs": [],
   "source": [
    "x_min = dff.columns[lr.coef_.argmin()]\n",
    "x_max = dff.columns[lr.coef_.argmax()]"
   ]
  },
  {
   "cell_type": "code",
   "execution_count": 16,
   "metadata": {},
   "outputs": [
    {
     "data": {
      "text/plain": [
       "<matplotlib.axes._subplots.AxesSubplot at 0x7f0be8cd8710>"
      ]
     },
     "execution_count": 16,
     "metadata": {},
     "output_type": "execute_result"
    },
    {
     "data": {
      "image/png": "[encoded data removed]",
      "text/plain": [
       "<Figure size 432x288 with 1 Axes>"
      ]
     },
     "metadata": {
      "needs_background": "light"
     },
     "output_type": "display_data"
    },
    {
     "data": {
      "image/png": "[encoded data removed]",
      "text/plain": [
       "<Figure size 432x288 with 1 Axes>"
      ]
     },
     "metadata": {
      "needs_background": "light"
     },
     "output_type": "display_data"
    }
   ],
   "source": [
    "dff.plot.scatter(x=x_min,y='y')\n",
    "dff.plot.scatter(x=x_max,y='y')"
   ]
  },
  {
   "cell_type": "markdown",
   "metadata": {},
   "source": [
    "## Logistic Regression"
   ]
  },
  {
   "cell_type": "code",
   "execution_count": 17,
   "metadata": {},
   "outputs": [
    {
     "name": "stderr",
     "output_type": "stream",
     "text": [
      "/opt/conda/lib/python3.6/site-packages/sklearn/linear_model/logistic.py:432: FutureWarning: Default solver will be changed to 'lbfgs' in 0.22. Specify a solver to silence this warning.\n",
      "  FutureWarning)\n"
     ]
    },
    {
     "data": {
      "text/plain": [
       "LogisticRegression(C=1.0, class_weight=None, dual=False, fit_intercept=True,\n",
       "          intercept_scaling=1, max_iter=100, multi_class='warn',\n",
       "          n_jobs=None, penalty='l2', random_state=None, solver='warn',\n",
       "          tol=0.0001, verbose=0, warm_start=False)"
      ]
     },
     "execution_count": 17,
     "metadata": {},
     "output_type": "execute_result"
    }
   ],
   "source": [
    "from sklearn.linear_model import LogisticRegression\n",
    "\n",
    "lor = LogisticRegression()\n",
    "lor.fit(train_dff.drop('y', axis = 1),train_dff['y'])"
   ]
  },
  {
   "cell_type": "code",
   "execution_count": 18,
   "metadata": {},
   "outputs": [
    {
     "name": "stdout",
     "output_type": "stream",
     "text": [
      "Train data accuracy:  79.83 %\n",
      "Test data accuracy:  78.15 %\n"
     ]
    }
   ],
   "source": [
    "LOTrS = (sum(lor.predict(train_dff.drop('y', axis=1))==train_dff['y']))/len(train_dff)\n",
    "LOTeS = (sum(lor.predict(test_dff.drop('y', axis=1))==test_dff['y']))/len(test_dff)\n",
    "print(\"Train data accuracy: \", round((100*LOTrS),2), \"%\")\n",
    "print(\"Test data accuracy: \", round((100*LOTeS),2), \"%\")"
   ]
  },
  {
   "cell_type": "markdown",
   "metadata": {},
   "source": [
    "## Decision Tree Classifier"
   ]
  },
  {
   "cell_type": "code",
   "execution_count": 19,
   "metadata": {},
   "outputs": [
    {
     "data": {
      "text/plain": [
       "DecisionTreeClassifier(class_weight=None, criterion='gini', max_depth=None,\n",
       "            max_features=None, max_leaf_nodes=None,\n",
       "            min_impurity_decrease=0.0, min_impurity_split=None,\n",
       "            min_samples_leaf=1, min_samples_split=2,\n",
       "            min_weight_fraction_leaf=0.0, presort=False, random_state=None,\n",
       "            splitter='best')"
      ]
     },
     "execution_count": 19,
     "metadata": {},
     "output_type": "execute_result"
    }
   ],
   "source": [
    "from sklearn.tree import DecisionTreeClassifier\n",
    "\n",
    "tree = DecisionTreeClassifier()\n",
    "#tree.criterion = 'entropy'\n",
    "tree.fit(train_dff.drop('y', axis=1), train_dff['y'])"
   ]
  },
  {
   "cell_type": "code",
   "execution_count": 20,
   "metadata": {},
   "outputs": [
    {
     "name": "stdout",
     "output_type": "stream",
     "text": [
      "[[5117    0]\n",
      " [   0 1488]]\n",
      "1.0\n",
      "[[1040  205]\n",
      " [ 195  212]]\n",
      "0.757869249395\n"
     ]
    }
   ],
   "source": [
    "from sklearn.metrics import confusion_matrix\n",
    "from sklearn.metrics import accuracy_score\n",
    "\n",
    "print(confusion_matrix(tree.predict(train_dff.drop('y',axis=1)), train_dff['y']))\n",
    "DTrS = accuracy_score(train_dff['y'], tree.predict(train_dff.drop('y',axis=1)))\n",
    "print(DTrS)\n",
    "print(confusion_matrix(tree.predict(test_dff.drop('y',axis=1)),test_dff['y']))\n",
    "DTeS = accuracy_score(tree.predict(test_dff.drop('y',axis=1)),test_dff['y'])\n",
    "print(DTeS)"
   ]
  },
  {
   "cell_type": "code",
   "execution_count": 21,
   "metadata": {},
   "outputs": [
    {
     "data": {
      "text/plain": [
       "array([ 0.11617018,  0.04636261,  0.01603812,  0.01980913,  0.00838865,\n",
       "        0.1284308 ,  0.28667151,  0.02488081,  0.20114241,  0.05657005,\n",
       "        0.00068635,  0.08688682,  0.00796258])"
      ]
     },
     "execution_count": 21,
     "metadata": {},
     "output_type": "execute_result"
    }
   ],
   "source": [
    "tree.feature_importances_"
   ]
  },
  {
   "cell_type": "code",
   "execution_count": 22,
   "metadata": {},
   "outputs": [
    {
     "name": "stdout",
     "output_type": "stream",
     "text": [
      "duration\n"
     ]
    }
   ],
   "source": [
    "print(dff.columns[tree.feature_importances_.argmax()])"
   ]
  },
  {
   "cell_type": "markdown",
   "metadata": {},
   "source": [
    "## KNN Classifier"
   ]
  },
  {
   "cell_type": "code",
   "execution_count": 23,
   "metadata": {},
   "outputs": [
    {
     "name": "stdout",
     "output_type": "stream",
     "text": [
      "Training set confusion matrix: \n",
      "[[4819  547]\n",
      " [ 298  941]]\n",
      "\n",
      "Training set accuracy: \n",
      "0.8720666162\n"
     ]
    }
   ],
   "source": [
    "from sklearn.neighbors import KNeighborsClassifier\n",
    "\n",
    "knn = KNeighborsClassifier(n_neighbors=3)\n",
    "\n",
    "knn.fit(train_dff.drop('y',axis=1), train_dff['y'])\n",
    "knn.predict(train_dff.drop('y',axis=1))\n",
    "\n",
    "print(\"Training set confusion matrix: \") \n",
    "print(confusion_matrix(knn.predict(train_dff.drop('y',axis=1)), train_dff['y']))\n",
    "print(\"\\nTraining set accuracy: \")\n",
    "KTrS = accuracy_score(train_dff['y'], knn.predict(train_dff.drop('y',axis=1)))\n",
    "print(KTrS)"
   ]
  },
  {
   "cell_type": "code",
   "execution_count": 24,
   "metadata": {},
   "outputs": [
    {
     "name": "stdout",
     "output_type": "stream",
     "text": [
      "Test set confusion matrix: \n",
      "[[1079  243]\n",
      " [ 156  174]]\n",
      "\n",
      "Test set accuracy: \n",
      "0.758474576271\n"
     ]
    }
   ],
   "source": [
    "print(\"Test set confusion matrix: \") \n",
    "print(confusion_matrix(knn.predict(test_dff.drop('y',axis=1)), test_dff['y']))\n",
    "print(\"\\nTest set accuracy: \")\n",
    "KTeS = accuracy_score(test_dff['y'], knn.predict(test_dff.drop('y',axis=1)))\n",
    "print(KTeS)"
   ]
  },
  {
   "cell_type": "markdown",
   "metadata": {},
   "source": [
    "## Naive Bayes'"
   ]
  },
  {
   "cell_type": "raw",
   "metadata": {},
   "source": [
    "from sklearn.naive_bayes import MultinomialNB\n",
    "\n",
    "\n",
    "nb = MultinomialNB(alpha=.1)\n",
    "nb.fit(train_dff.drop('y', axis=1), train_dff['y'])\n",
    "\n",
    "#Input values for multinomialNB should be non-negative where the column 'pdays' has negative values"
   ]
  },
  {
   "cell_type": "code",
   "execution_count": 25,
   "metadata": {},
   "outputs": [
    {
     "data": {
      "text/plain": [
       "GaussianNB(priors=None, var_smoothing=1e-09)"
      ]
     },
     "execution_count": 25,
     "metadata": {},
     "output_type": "execute_result"
    }
   ],
   "source": [
    "from sklearn.naive_bayes import GaussianNB\n",
    "\n",
    "gnb = GaussianNB()\n",
    "gnb.fit(train_dff.drop('y', axis=1), train_dff['y'])"
   ]
  },
  {
   "cell_type": "code",
   "execution_count": 26,
   "metadata": {},
   "outputs": [
    {
     "name": "stdout",
     "output_type": "stream",
     "text": [
      "0.773050719152\n",
      "0.774818401937\n"
     ]
    }
   ],
   "source": [
    "NBTrS = accuracy_score(train_dff['y'], gnb.predict(train_dff.drop('y', axis = 1)))\n",
    "print(NBTrS)\n",
    "NBTeS = accuracy_score(test_dff['y'], gnb.predict(test_dff.drop('y', axis = 1)))\n",
    "print(NBTeS)"
   ]
  },
  {
   "cell_type": "code",
   "execution_count": null,
   "metadata": {},
   "outputs": [],
   "source": []
  },
  {
   "cell_type": "markdown",
   "metadata": {},
   "source": [
    "## Random Forests"
   ]
  },
  {
   "cell_type": "code",
   "execution_count": 27,
   "metadata": {},
   "outputs": [
    {
     "data": {
      "text/plain": [
       "RandomForestClassifier(bootstrap=True, class_weight=None, criterion='gini',\n",
       "            max_depth=None, max_features='auto', max_leaf_nodes=None,\n",
       "            min_impurity_decrease=0.0, min_impurity_split=None,\n",
       "            min_samples_leaf=1, min_samples_split=2,\n",
       "            min_weight_fraction_leaf=0.0, n_estimators=100, n_jobs=None,\n",
       "            oob_score=False, random_state=None, verbose=0,\n",
       "            warm_start=False)"
      ]
     },
     "execution_count": 27,
     "metadata": {},
     "output_type": "execute_result"
    }
   ],
   "source": [
    "from sklearn.ensemble import RandomForestClassifier\n",
    "\n",
    "rfc = RandomForestClassifier(n_estimators=100)\n",
    "rfc.fit(train_dff.drop('y', axis=1), train_dff['y'])"
   ]
  },
  {
   "cell_type": "code",
   "execution_count": 28,
   "metadata": {},
   "outputs": [
    {
     "data": {
      "text/plain": [
       "'duration'"
      ]
     },
     "execution_count": 28,
     "metadata": {},
     "output_type": "execute_result"
    }
   ],
   "source": [
    "dff.columns[rfc.feature_importances_.argmax()]"
   ]
  },
  {
   "cell_type": "code",
   "execution_count": 29,
   "metadata": {},
   "outputs": [
    {
     "name": "stdout",
     "output_type": "stream",
     "text": [
      "[[5117    0]\n",
      " [   0 1488]]\n",
      "1.0\n"
     ]
    }
   ],
   "source": [
    "print(confusion_matrix(rfc.predict(train_dff.drop('y', axis=1)), train_dff['y']))\n",
    "RFTrS = accuracy_score(train_dff['y'], rfc.predict(train_dff.drop('y', axis=1)))\n",
    "print(RFTrS)"
   ]
  },
  {
   "cell_type": "code",
   "execution_count": 30,
   "metadata": {},
   "outputs": [
    {
     "name": "stdout",
     "output_type": "stream",
     "text": [
      "[[1138  209]\n",
      " [  97  208]]\n",
      "0.814769975787\n"
     ]
    }
   ],
   "source": [
    "print(confusion_matrix(rfc.predict(test_dff.drop('y', axis=1)), test_dff['y']))\n",
    "RFTeS = accuracy_score(test_dff['y'], rfc.predict(test_dff.drop('y', axis=1)))\n",
    "print(RFTeS)"
   ]
  },
  {
   "cell_type": "markdown",
   "metadata": {},
   "source": [
    "## SVM Classifier"
   ]
  },
  {
   "cell_type": "code",
   "execution_count": 31,
   "metadata": {},
   "outputs": [
    {
     "data": {
      "text/plain": [
       "SVC(C=1.0, cache_size=200, class_weight=None, coef0=0.0,\n",
       "  decision_function_shape='ovr', degree=3, gamma='scale', kernel='rbf',\n",
       "  max_iter=-1, probability=False, random_state=None, shrinking=True,\n",
       "  tol=0.001, verbose=False)"
      ]
     },
     "execution_count": 31,
     "metadata": {},
     "output_type": "execute_result"
    }
   ],
   "source": [
    "from sklearn import svm\n",
    "\n",
    "svmc = svm.SVC(gamma = 'scale')\n",
    "svmc.fit(train_dff.drop('y', axis = 1), train_dff['y'])"
   ]
  },
  {
   "cell_type": "code",
   "execution_count": 32,
   "metadata": {},
   "outputs": [
    {
     "name": "stdout",
     "output_type": "stream",
     "text": [
      "[[4993  770]\n",
      " [ 124  718]]\n",
      "0.864647993944\n"
     ]
    }
   ],
   "source": [
    "print(confusion_matrix(svmc.predict(train_dff.drop('y', axis=1)), train_dff['y']))\n",
    "SVMTrS = accuracy_score(train_dff['y'], svmc.predict(train_dff.drop('y', axis=1)))\n",
    "print(SVMTrS)"
   ]
  },
  {
   "cell_type": "code",
   "execution_count": 33,
   "metadata": {},
   "outputs": [
    {
     "name": "stdout",
     "output_type": "stream",
     "text": [
      "[[1155  315]\n",
      " [  80  102]]\n",
      "0.760895883777\n"
     ]
    }
   ],
   "source": [
    "print(confusion_matrix(svmc.predict(test_dff.drop('y', axis=1)), test_dff['y']))\n",
    "SVMTeS = accuracy_score(test_dff['y'], svmc.predict(test_dff.drop('y', axis=1)))\n",
    "print(SVMTeS)"
   ]
  },
  {
   "cell_type": "code",
   "execution_count": 34,
   "metadata": {},
   "outputs": [
    {
     "data": {
      "text/plain": [
       "<matplotlib.axes._subplots.AxesSubplot at 0x7f0be8119d68>"
      ]
     },
     "execution_count": 34,
     "metadata": {},
     "output_type": "execute_result"
    },
    {
     "data": {
      "image/png": "[encoded data removed]",
      "text/plain": [
       "<Figure size 432x288 with 1 Axes>"
      ]
     },
     "metadata": {
      "needs_background": "light"
     },
     "output_type": "display_data"
    }
   ],
   "source": [
    "tr_score_list = [LRTrS, LOTrS, DTrS, RFTrS, KTrS, NBTrS, SVMTrS]\n",
    "te_score_list = [LRTeS, LOTeS, DTeS, RFTeS, KTeS, NBTeS, SVMTeS]\n",
    "\n",
    "dt = pd.DataFrame({'Train': tr_score_list, 'Test': te_score_list}, index = ['LinR', 'LogR', 'DTree', 'RandF', 'KNN', 'NBayes', 'SVM'])\n",
    "\n",
    "dt.plot.barh(rot=1)"
   ]
  },
  {
   "cell_type": "markdown",
   "metadata": {},
   "source": [
    "## Principle Component Analysis"
   ]
  },
  {
   "cell_type": "code",
   "execution_count": 35,
   "metadata": {},
   "outputs": [
    {
     "name": "stderr",
     "output_type": "stream",
     "text": [
      "/opt/conda/lib/python3.6/site-packages/sklearn/utils/validation.py:590: DataConversionWarning: Data with input dtype int64 was converted to float64 by StandardScaler.\n",
      "  warnings.warn(msg, DataConversionWarning)\n",
      "/opt/conda/lib/python3.6/site-packages/sklearn/utils/validation.py:590: DataConversionWarning: Data with input dtype int64 was converted to float64 by StandardScaler.\n",
      "  warnings.warn(msg, DataConversionWarning)\n"
     ]
    }
   ],
   "source": [
    "from sklearn.preprocessing import StandardScaler\n",
    "\n",
    "features = list(dff.drop('y', axis=1).columns)\n",
    "u = dff.loc[:, features].values\n",
    "v = y = dff.loc[:,['y']].values\n",
    "u = StandardScaler().fit_transform(u)"
   ]
  },
  {
   "cell_type": "code",
   "execution_count": 36,
   "metadata": {},
   "outputs": [],
   "source": [
    "from sklearn.decomposition import PCA\n",
    "pca = PCA(n_components=2)\n",
    "principalComponents = pca.fit_transform(u)"
   ]
  },
  {
   "cell_type": "code",
   "execution_count": 37,
   "metadata": {},
   "outputs": [
    {
     "name": "stdout",
     "output_type": "stream",
     "text": [
      "[ 0.12523333  0.10564874]\n"
     ]
    },
    {
     "data": {
      "image/png": "[encoded data removed]",
      "text/plain": [
       "<Figure size 432x288 with 1 Axes>"
      ]
     },
     "metadata": {
      "needs_background": "light"
     },
     "output_type": "display_data"
    }
   ],
   "source": [
    "plt.plot(pca.explained_variance_)\n",
    "print(pca.explained_variance_ratio_)"
   ]
  },
  {
   "cell_type": "code",
   "execution_count": 38,
   "metadata": {},
   "outputs": [],
   "source": [
    "principalDf = pd.DataFrame(data = principalComponents\n",
    "             , columns = ['principal component 1', 'principal component 2'])\n",
    "\n",
    "finalDf = pd.concat([principalDf, dff['y']], axis = 1)"
   ]
  },
  {
   "cell_type": "code",
   "execution_count": 39,
   "metadata": {},
   "outputs": [
    {
     "data": {
      "image/png": "[encoded data removed]",
      "text/plain": [
       "<Figure size 576x576 with 1 Axes>"
      ]
     },
     "metadata": {
      "needs_background": "light"
     },
     "output_type": "display_data"
    }
   ],
   "source": [
    "fig = plt.figure(figsize = (8,8))\n",
    "ax = fig.add_subplot(1,1,1) \n",
    "ax.set_xlabel('Principal Component 1', fontsize = 15)\n",
    "ax.set_ylabel('Principal Component 2', fontsize = 15)\n",
    "ax.set_title('2 components', fontsize = 20)\n",
    "targets = [0,1]\n",
    "colors = ['r', 'g']\n",
    "for target, color in zip(targets,colors):\n",
    "    indicesToKeep = finalDf['y'] == target\n",
    "    ax.scatter(finalDf.loc[indicesToKeep, 'principal component 1']\n",
    "               , finalDf.loc[indicesToKeep, 'principal component 2']\n",
    "               , c = color\n",
    "               , s = 50)\n",
    "ax.legend(targets)\n",
    "ax.grid()"
   ]
  },
  {
   "cell_type": "code",
   "execution_count": 40,
   "metadata": {},
   "outputs": [
    {
     "name": "stdout",
     "output_type": "stream",
     "text": [
      "[ 0.12523572  0.10564928  0.09377301  0.08755768  0.08077769  0.07686521\n",
      "  0.07439915  0.06921212  0.06763255  0.06311727  0.05937331  0.05103672\n",
      "  0.04537029]\n"
     ]
    },
    {
     "data": {
      "image/png": "[encoded data removed]",
      "text/plain": [
       "<Figure size 432x288 with 1 Axes>"
      ]
     },
     "metadata": {
      "needs_background": "light"
     },
     "output_type": "display_data"
    }
   ],
   "source": [
    "pca = PCA(n_components=13)\n",
    "pca.fit_transform(u)\n",
    "plt.plot(pca.explained_variance_)\n",
    "print(pca.explained_variance_ratio_)"
   ]
  }
 ],
 "metadata": {
  "kernelspec": {
   "display_name": "Python 3",
   "language": "python",
   "name": "python3"
  },
  "language_info": {
   "codemirror_mode": {
    "name": "ipython",
    "version": 3
   },
   "file_extension": ".py",
   "mimetype": "text/x-python",
   "name": "python",
   "nbconvert_exporter": "python",
   "pygments_lexer": "ipython3",
   "version": "3.7.3"
  }
 },
 "nbformat": 4,
 "nbformat_minor": 4
}
